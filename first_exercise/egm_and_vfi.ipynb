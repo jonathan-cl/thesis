{
 "cells": [
  {
   "cell_type": "markdown",
   "source": [
    "## This version includes a VFI and an EGM solver\n",
    "\n",
    "Task: Optimize consumption over retirement and find optimal investment in a fairly priced annuity; investment only possible at time = 0 (age 65)\n",
    "\n",
    "### Symbols\n",
    "$c_t$: Consumption \\\n",
    "$w_t$: Wealth (beginning of period t) \\\n",
    "$a_t := w_t-c_t$: End of period wealth \\\n",
    "$p$: yearly payout of the annuity \\\n",
    "$R := 1+r$ with $r$ being the interest rate \\\n",
    "Wealth evolves according to $w_t = R * a_{t-1} + p$ \\\n",
    "$\\sigma(w_t) = c_t^{*}$: Policy function\n",
    "\n",
    "\n",
    "$u(c) := \\frac{c^{1-\\gamma}}{1-\\gamma}$: Utility function (CRRA) \\\n",
    "$\\gamma$ is the risk aversion parameter\n",
    "\n",
    "Value function V:\n",
    "\n",
    "$$V(w) := max \\sum_{t=s}^{T} (\\prod_{y=s}^{t}S(y)) \\beta^t u(c_t)$$\n",
    "Where $S(y)$ is the probability of surviving age $y$, $s$ is the starting age and $T$ is the final period\n",
    "\n",
    "Euler equation:\n",
    "$$u'(c_t) = S(t) \\beta R u'(c_{t+1})$$\n",
    "\n",
    "Solved for c_t:\n",
    "$$c_t = (u')^{-1} [S(t) \\beta R u'(\\sigma(a_t + p))]$$"
   ],
   "metadata": {
    "collapsed": false,
    "pycharm": {
     "name": "#%% md\n"
    }
   }
  },
  {
   "cell_type": "markdown",
   "source": [
    "### Imports / Utility"
   ],
   "metadata": {
    "collapsed": false,
    "pycharm": {
     "name": "#%% md\n"
    }
   }
  },
  {
   "cell_type": "code",
   "execution_count": 1,
   "outputs": [],
   "source": [
    "%matplotlib inline\n",
    "import matplotlib.pyplot as plt\n",
    "plt.rcParams[\"figure.figsize\"] = (11, 5)  #set default figure size\n",
    "plt.ion()\n",
    "import numpy as np\n",
    "from interpolation import interp\n",
    "from scipy.optimize import minimize_scalar"
   ],
   "metadata": {
    "collapsed": false,
    "pycharm": {
     "name": "#%%\n"
    }
   }
  },
  {
   "cell_type": "code",
   "execution_count": 2,
   "outputs": [],
   "source": [
    "# This is a temporary workaround; I copied the survival probabilities from https://www.ssa.gov/oact/STATS/table4c6.html\n",
    "def get_s_prob(s, T):\n",
    "    l = np.array([0.993919, 0.999575, 0.99974, 0.999806, 0.999846, 0.999858, 0.999865, 0.999873, 0.999884, 0.999896, 0.999903, 0.999894, 0.999856, 0.99978, 0.999677, 0.999563, 0.999448, 0.999325, 0.999194, 0.999061, 0.998921, 0.998785, 0.998673, 0.998594, 0.998539, 0.998493, 0.998443, 0.99839, 0.998332, 0.998268, 0.998205, 0.998142, 0.998077, 0.998008,\n",
    " 0.997936, 0.997855, 0.997769, 0.997684, 0.997602, 0.997518, 0.99742, 0.997303, 0.997172, 0.997024, 0.996854, 0.99666, 0.996433, 0.996167, 0.995857, 0.995501,\n",
    " 0.99511, 0.994679, 0.99419, 0.993637, 0.993027, 0.992371, 0.991678, 0.990951, 0.990194, 0.989405, 0.988548, 0.987642, 0.986745, 0.985874, 0.984994, 0.983999,\n",
    " 0.982876, 0.981702, 0.980481, 0.979153, 0.977619, 0.975815, 0.973734, 0.97134, 0.968599, 0.965382, 0.961737, 0.95781, 0.953633, 0.949052, 0.943763,\n",
    " 0.93764, 0.930774, 0.923116, 0.914548, 0.904938, 0.894171, 0.882162, 0.868862, 0.854249, 0.838322, 0.821095, 0.802592, 0.782851, 0.7619199999999999, 0.741179,\n",
    " 0.721034, 0.701908, 0.684238, 0.66845, 0.651872, 0.634466, 0.616189, 0.5969990000000001, 0.576849, 0.5556909999999999, 0.5334760000000001, 0.510149,\n",
    " 0.485657, 0.45994, 0.432937, 0.404583, 0.37481299999999995, 0.343553, 0.310731, 0.27626799999999996,\n",
    " 0.240081, 0.20208499999999996, 0.16218900000000003, 0.12029900000000004])\n",
    "    return l[s:T]\n",
    "\n",
    "def get_annuity_payment(annuity_investment, S, R):\n",
    "    accumulated_p_surv = 1\n",
    "    res = 0\n",
    "    for t in range(len(S)):\n",
    "        accumulated_p_surv *= S[t]\n",
    "        res += accumulated_p_surv / R ** t\n",
    "    return annuity_investment / res"
   ],
   "metadata": {
    "collapsed": false,
    "pycharm": {
     "name": "#%%\n"
    }
   }
  },
  {
   "cell_type": "markdown",
   "source": [
    "### Define Model"
   ],
   "metadata": {
    "collapsed": false,
    "pycharm": {
     "name": "#%% md\n"
    }
   }
  },
  {
   "cell_type": "code",
   "execution_count": 3,
   "outputs": [],
   "source": [
    "class Model:\n",
    "    def __init__(self,\n",
    "                 endowment=100,\n",
    "                 beta=0.96,\n",
    "                 gamma=5,\n",
    "                 s=65,\n",
    "                 T=100,\n",
    "                 r=0.02,\n",
    "                 annuity_investment=0,\n",
    "                 consider_survival_prob=True,  # If set to false, S(t)=1 for all t\n",
    "                 grid_min=1e-10,\n",
    "                 grid_max=100,\n",
    "                 grid_size=101\n",
    "                ):\n",
    "        assert endowment >= annuity_investment, \"Endowment needs to be >= annuity_investment\"\n",
    "        self.endowment, self.beta, self.gamma, self.s, self.T = endowment, beta, gamma, s, T\n",
    "        self.annuity_investment = annuity_investment\n",
    "        self.n = T-s\n",
    "        self.R = 1 + r\n",
    "        self.grid = np.linspace(grid_min, grid_max, grid_size)\n",
    "        if consider_survival_prob:\n",
    "            self.S = get_s_prob(s, T)\n",
    "        else:\n",
    "            self.S = np.full(self.n, 1)\n",
    "        self.p = get_annuity_payment(annuity_investment, self.S, self.R)\n",
    "\n",
    "    def __repr__(self):\n",
    "        return f\"Model with parameters: endowment={self.endowment}, annuity investment={self.annuity_investment}, beta={self.beta}, gamma={self.gamma}, s={self.s}, T={self.T}, r={self.R}, p={self.p}\"\n",
    "\n",
    "    # Utility function\n",
    "    def u(self, c):\n",
    "        return c ** (1-self.gamma) / (1 - self.gamma)\n",
    "    # Marginal utility\n",
    "    def u_prime(self, c):\n",
    "        return c ** -self.gamma\n",
    "    # Inverse marginal utility\n",
    "    def u_prime_inv(self, c):\n",
    "        return c ** (-1 / self.gamma)"
   ],
   "metadata": {
    "collapsed": false,
    "pycharm": {
     "name": "#%%\n"
    }
   }
  },
  {
   "cell_type": "markdown",
   "source": [
    "### Solve Model\n",
    "#### Using EGM"
   ],
   "metadata": {
    "collapsed": false,
    "pycharm": {
     "name": "#%% md\n"
    }
   }
  },
  {
   "cell_type": "code",
   "execution_count": 4,
   "outputs": [],
   "source": [
    "def solve_egm(model):\n",
    "    sigma = np.empty([model.n, len(model.grid)])\n",
    "    sigma[-1] = model.grid # Consume everything\n",
    "\n",
    "    # Backward induction\n",
    "    for t in reversed(range(model.n - 1)):\n",
    "        w_temp = np.empty(len(model.grid))\n",
    "        sigma_temp = np.empty(len(model.grid))\n",
    "        sigma_next = lambda w: interp(model.grid, sigma[t+1], w)\n",
    "\n",
    "        for i, a in enumerate(model.grid):\n",
    "            w_next = model.R * a + model.p\n",
    "            sigma_temp[i] = model.u_prime_inv(model.S[t] * model.beta * model.R * model.u_prime(sigma_next(w_next)))\n",
    "            w_temp[i] = sigma_temp[i] + a\n",
    "\n",
    "        # Interpolate results back to common grid\n",
    "        for i, w in enumerate(model.grid):\n",
    "            # Set upper limit of c <= w\n",
    "            sigma[t, i] = min(interp(w_temp, sigma_temp, w), w)\n",
    "    return sigma"
   ],
   "metadata": {
    "collapsed": false,
    "pycharm": {
     "name": "#%%\n"
    }
   }
  },
  {
   "cell_type": "markdown",
   "source": [
    "#### Using VFI"
   ],
   "metadata": {
    "collapsed": false,
    "pycharm": {
     "name": "#%% md\n"
    }
   }
  },
  {
   "cell_type": "code",
   "execution_count": 5,
   "outputs": [],
   "source": [
    "# utility, copied from quantecon; maximizes f within bounds of a and b\n",
    "def maximize(f, a, b, args):\n",
    "    objective = lambda x: -f(x, *args)\n",
    "    res = minimize_scalar(objective, bounds=(a,b), method=\"bounded\")\n",
    "    maximizer, maximum = res.x, -res.fun\n",
    "    return maximizer, maximum\n",
    "\n",
    "# Optimize over c\n",
    "def obj_bellman(c, t, w, v_grid, model):\n",
    "    a = w-c\n",
    "    a = max(a, model.grid[0])  # Fix this; How to deal with the case w=c -> a=0? Outside of grid\n",
    "    v_n = interp(model.grid, v_grid[t+1], a * model.R + model.p)  # Value function for next period\n",
    "    return model.u(c) + model.beta * model.S[t] * v_n\n",
    "\n",
    "def solve_vfi(model):\n",
    "    sigma_grid = np.empty((model.n, len(model.grid)))\n",
    "    v_grid = np.empty((model.n, len(model.grid))) # Used to store expected values\n",
    "\n",
    "    # Last period\n",
    "    sigma_grid[-1] = np.copy(model.grid) * 1.0\n",
    "    v_grid[-1] = model.u(sigma_grid[-1])\n",
    "\n",
    "    for t in reversed(range(model.n - 1)):\n",
    "        for i, w in enumerate(model.grid):\n",
    "            sigma_grid[t, i], v_grid[t,i] = maximize(obj_bellman, 0, w, args=(t, w, v_grid, model))\n",
    "\n",
    "    return sigma_grid"
   ],
   "metadata": {
    "collapsed": false,
    "pycharm": {
     "name": "#%%\n"
    }
   }
  },
  {
   "cell_type": "markdown",
   "source": [
    "###  Simulate Lifecycle"
   ],
   "metadata": {
    "collapsed": false,
    "pycharm": {
     "name": "#%% md\n"
    }
   }
  },
  {
   "cell_type": "code",
   "execution_count": 6,
   "outputs": [],
   "source": [
    "def simulate_lifecycle(sigma_grid, m):\n",
    "    a_grid = np.empty(m.n)\n",
    "    w_grid = np.empty(m.n)\n",
    "    c_grid = np.empty(m.n)\n",
    "    # Expected Value\n",
    "    v = 0\n",
    "\n",
    "    surv_prob_accumulated = 1\n",
    "\n",
    "    for t in range(m.n):\n",
    "        sigma = lambda w: interp(m.grid, sigma_grid[t], w)\n",
    "        if t == 0:\n",
    "            w_grid[0] = m.endowment - m.annuity_investment + m.p\n",
    "            c_grid[0] = sigma(w_grid[0])\n",
    "            a_grid[0] = w_grid[0] - c_grid[0]\n",
    "            v = m.u(c_grid[0])\n",
    "        else:\n",
    "            w_grid[t] = m.R * a_grid[t-1] + m.p\n",
    "            c_grid[t] = sigma(w_grid[t])\n",
    "            a_grid[t] = w_grid[t] - c_grid[t]\n",
    "            v += m.beta ** t * surv_prob_accumulated * m.u(c_grid[t])\n",
    "        surv_prob_accumulated *= m.S[t]\n",
    "\n",
    "    return w_grid, c_grid, v"
   ],
   "metadata": {
    "collapsed": false,
    "pycharm": {
     "name": "#%%\n"
    }
   }
  },
  {
   "cell_type": "markdown",
   "source": [
    "### Function for Plotting Results"
   ],
   "metadata": {
    "collapsed": false,
    "pycharm": {
     "name": "#%% md\n"
    }
   }
  },
  {
   "cell_type": "code",
   "execution_count": 7,
   "outputs": [],
   "source": [
    "def plot_policy_function(sigma, model, header_addition=\"\"):\n",
    "    fig, ax = plt.subplots()\n",
    "    ax.set_title(f\"Policy function {header_addition}\")\n",
    "    ax.set_xlabel(\"wealth\")\n",
    "    ax.set_ylabel(\"consumption\")\n",
    "    for i in range(len(sigma)):\n",
    "        # Plot a label for every 5th period\n",
    "        if i % 5 == 0 or i == len(sigma) - 1:\n",
    "            ax.plot(model.grid, sigma[i], color=plt.cm.jet(i / len(sigma)), lw=2, alpha=0.6, label=f\"t={i}\")\n",
    "        else:\n",
    "            ax.plot(model.grid, sigma[i], color=plt.cm.jet(i / len(sigma)), lw=2, alpha=0.6)\n",
    "    ax.legend()\n",
    "\n",
    "def plot_lifecycle(m, w_grid_vfi=None, c_grid_vfi=None, w_grid_egm=None, c_grid_egm=None, separate_consumption_plot=False):\n",
    "    fig, ax = plt.subplots()\n",
    "    ax.set_title(\"Simulated consumption / wealth development\")\n",
    "    ax.set_xlabel(\"Time\")\n",
    "    ax.set_ylabel(\"wealth / consumption\")\n",
    "    if w_grid_vfi is not None:\n",
    "        ax.plot(range(m.n), w_grid_vfi, color=\"red\", lw=2, alpha=0.6, label=\"wealth VFI\")\n",
    "        ax.plot(range(m.n), c_grid_vfi, color=\"blue\", lw=2, alpha=0.6, label=\"consumption VFI\")\n",
    "    if w_grid_egm is not None:\n",
    "        ax.plot(range(m.n), w_grid_egm, color=\"brown\", lw=2, alpha=0.6, label=\"wealth EGM\")\n",
    "        ax.plot(range(m.n), c_grid_egm, color=\"green\", lw=2, alpha=0.6, label=\"consumption EGM\")\n",
    "    ax.legend()\n",
    "    if separate_consumption_plot:\n",
    "        fig, ax = plt.subplots()\n",
    "        ax.set_title(f\"Simulated consumption\")\n",
    "        ax.set_xlabel(\"Time\")\n",
    "        ax.set_ylabel(\"consumption\")\n",
    "        if c_grid_vfi is not None:\n",
    "            ax.plot(range(m.n), c_grid_vfi, color=\"blue\", lw=2, alpha=0.6, label=\"consumption VFI\")\n",
    "        if c_grid_egm is not None:\n",
    "            ax.plot(range(m.n), c_grid_egm, color=\"green\", lw=2, alpha=0.6, label=\"consumption EGM\")\n",
    "        ax.legend()"
   ],
   "metadata": {
    "collapsed": false,
    "pycharm": {
     "name": "#%%\n"
    }
   }
  },
  {
   "cell_type": "markdown",
   "source": [
    "### Plot graphs for annuity investment = 0"
   ],
   "metadata": {
    "collapsed": false,
    "pycharm": {
     "name": "#%% md\n"
    }
   }
  },
  {
   "cell_type": "code",
   "execution_count": null,
   "outputs": [
    {
     "name": "stdout",
     "output_type": "stream",
     "text": [
      "Model with parameters: endowment=100, annuity investment=0, beta=0.96, gamma=5, s=65, T=100, r=1.02, p=0.0\n"
     ]
    }
   ],
   "source": [
    "m = Model()\n",
    "print(m)\n",
    "sigma_vfi = solve_vfi(m)\n",
    "sigma_egm = solve_egm(m)\n",
    "plot_policy_function(sigma_vfi, m, \"VFI\")\n",
    "plot_policy_function(sigma_egm, m, \"EGM\")\n",
    "w_grid_vfi, c_grid_vfi, v_vfi = simulate_lifecycle(sigma_vfi, m)\n",
    "w_grid_egm, c_grid_egm, v_egm = simulate_lifecycle(sigma_egm, m)\n",
    "plot_lifecycle(m, w_grid_vfi, c_grid_vfi, w_grid_egm, c_grid_egm, separate_consumption_plot=True)"
   ],
   "metadata": {
    "collapsed": false,
    "pycharm": {
     "name": "#%%\n",
     "is_executing": true
    }
   }
  },
  {
   "cell_type": "markdown",
   "source": [
    "### Plot graphs for annuity investment = 100"
   ],
   "metadata": {
    "collapsed": false,
    "pycharm": {
     "name": "#%% md\n"
    }
   }
  },
  {
   "cell_type": "code",
   "execution_count": null,
   "outputs": [],
   "source": [
    "m = Model(annuity_investment=100)\n",
    "print(m)\n",
    "sigma_vfi = solve_vfi(m)\n",
    "sigma_egm = solve_egm(m)\n",
    "plot_policy_function(sigma_vfi, m, \"VFI\")\n",
    "plot_policy_function(sigma_egm, m, \"EGM\")\n",
    "w_grid_vfi, c_grid_vfi, v_vfi = simulate_lifecycle(sigma_vfi, m)\n",
    "w_grid_egm, c_grid_egm, v_egm = simulate_lifecycle(sigma_egm, m)\n",
    "plot_lifecycle(m, w_grid_vfi, c_grid_vfi, w_grid_egm, c_grid_egm, separate_consumption_plot=False)"
   ],
   "metadata": {
    "collapsed": false,
    "pycharm": {
     "name": "#%%\n",
     "is_executing": true
    }
   }
  },
  {
   "cell_type": "markdown",
   "source": [
    "### Find optimal annuity investment"
   ],
   "metadata": {
    "collapsed": false,
    "pycharm": {
     "name": "#%% md\n"
    }
   }
  },
  {
   "cell_type": "code",
   "execution_count": null,
   "outputs": [],
   "source": [
    "# This function is best called with a grid size so that 100 % (grid_size-1) = 0; e.g. 11, 21, 51, 101\n",
    "# Currently this function will only find the optimal annuity investment if it is exactly on the grid;\n",
    "# Once necessary I can consider interpolating inbetween the grid values\n",
    "def find_optimal_annuity(model_solver, grid_size):\n",
    "    step_size = 100 / (grid_size-1)\n",
    "    expected_values = np.empty(grid_size)\n",
    "    for i in range(grid_size):\n",
    "        m = Model(annuity_investment=i*step_size)\n",
    "        sigma = model_solver(m)\n",
    "        expected_values[i] = simulate_lifecycle(sigma, m)[2]\n",
    "    return np.argmax(expected_values) * step_size, expected_values[-1]"
   ],
   "metadata": {
    "collapsed": false,
    "pycharm": {
     "name": "#%%\n",
     "is_executing": true
    }
   }
  },
  {
   "cell_type": "code",
   "execution_count": null,
   "outputs": [],
   "source": [
    "optimal_investment_vfi, value_vfi = find_optimal_annuity(solve_vfi, 21)\n",
    "print(f\"Optimal annuity investment using VFI is {optimal_investment_vfi} and with an expected value of {value_vfi}\")\n",
    "optimal_investment_egm, value_egm = find_optimal_annuity(solve_egm, 21)\n",
    "print(f\"Optimal annuity investment using EGM is {optimal_investment_egm} and with an expected value of {value_egm}\")"
   ],
   "metadata": {
    "collapsed": false,
    "pycharm": {
     "name": "#%%\n",
     "is_executing": true
    }
   }
  }
 ],
 "metadata": {
  "kernelspec": {
   "display_name": "Python 3",
   "language": "python",
   "name": "python3"
  },
  "language_info": {
   "codemirror_mode": {
    "name": "ipython",
    "version": 2
   },
   "file_extension": ".py",
   "mimetype": "text/x-python",
   "name": "python",
   "nbconvert_exporter": "python",
   "pygments_lexer": "ipython2",
   "version": "2.7.6"
  }
 },
 "nbformat": 4,
 "nbformat_minor": 0
}